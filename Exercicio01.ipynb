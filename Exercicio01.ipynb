{
 "cells": [
  {
   "cell_type": "code",
   "execution_count": 1,
   "metadata": {},
   "outputs": [],
   "source": [
    "class Politico:\n",
    "\n",
    "    def __init__(self, nome, partido, estado, funcao):\n",
    "        self.nome = nome\n",
    "        self.partido = partido\n",
    "        self.estado = estado\n",
    "        self.funcao = funcao\n",
    "\n",
    "    def apresentacao(self):\n",
    "        print(\n",
    "            f\"Nome: {self.nome}\",\n",
    "            f\"Partido : {self.partido}\",\n",
    "            f\"Estado: {self.estado}\",\n",
    "            f\"Função: {self.funcao}\",\n",
    "            sep=\"\\n\"\n",
    "        )"
   ]
  },
  {
   "cell_type": "code",
   "execution_count": 2,
   "metadata": {},
   "outputs": [],
   "source": [
    "class Prefeito(Politico):\n",
    "    \n",
    "    def __init__(self, nome, partido, estado, funcao, municipio):\n",
    "        super().__init__(nome, partido, estado, funcao)\n",
    "        self.municipio = municipio\n",
    "\n",
    "    def apresentacao(self):\n",
    "        super().apresentacao()\n",
    "        print(f\"Município: {self.municipio}\")"
   ]
  },
  {
   "cell_type": "code",
   "execution_count": 4,
   "metadata": {},
   "outputs": [],
   "source": [
    "class Vereador(Politico):\n",
    "    \n",
    "    def __init__(self, nome, partido, estado, funcao, municipio):\n",
    "        super().__init__(nome, partido, estado, funcao)\n",
    "        self.municipio = municipio\n",
    "\n",
    "    def apresentacao(self):\n",
    "        super().apresentacao()\n",
    "        print(f\"Município: {self.municipio}\")"
   ]
  },
  {
   "cell_type": "code",
   "execution_count": 5,
   "metadata": {},
   "outputs": [
    {
     "name": "stdout",
     "output_type": "stream",
     "text": [
      "Nome: Jonas\n",
      "Partido : PPB\n",
      "Estado: SP\n",
      "Função: Deputado\n",
      "Município: São Paulo\n",
      "\n",
      "Nome: Lucas\n",
      "Partido : PJB\n",
      "Estado: RJ\n",
      "Função: Vereador\n",
      "Município: Rio de Janeiro\n"
     ]
    }
   ],
   "source": [
    "p1 = Prefeito(\"Jonas\", \"PPB\", \"SP\", \"Deputado\", \"São Paulo\")\n",
    "v1 = Vereador(\"Lucas\",\"PJB\", \"RJ\", \"Vereador\", \"Rio de Janeiro\")\n",
    "p1.apresentacao()\n",
    "print()\n",
    "v1.apresentacao()"
   ]
  }
 ],
 "metadata": {
  "interpreter": {
   "hash": "2be5faf79681da6f2a61fdfdd5405d65d042280f7fba6178067603e3a2925119"
  },
  "kernelspec": {
   "display_name": "Python 3.10.1 64-bit",
   "language": "python",
   "name": "python3"
  },
  "language_info": {
   "codemirror_mode": {
    "name": "ipython",
    "version": 3
   },
   "file_extension": ".py",
   "mimetype": "text/x-python",
   "name": "python",
   "nbconvert_exporter": "python",
   "pygments_lexer": "ipython3",
   "version": "3.10.1"
  },
  "orig_nbformat": 4
 },
 "nbformat": 4,
 "nbformat_minor": 2
}
